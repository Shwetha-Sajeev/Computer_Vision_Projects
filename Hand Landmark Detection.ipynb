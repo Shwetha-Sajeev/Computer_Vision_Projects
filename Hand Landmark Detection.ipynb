{
 "cells": [
  {
   "cell_type": "code",
   "execution_count": 4,
   "id": "5f752f45",
   "metadata": {},
   "outputs": [],
   "source": [
    "import cv2 as cv\n",
    "import mediapipe.python.solutions.hands as mp_hands\n",
    "import mediapipe.python.solutions.drawing_utils as drawing\n",
    "import mediapipe.python.solutions.drawing_styles as drawing_styles"
   ]
  },
  {
   "cell_type": "code",
   "execution_count": 5,
   "id": "ccc14cbd",
   "metadata": {},
   "outputs": [],
   "source": [
    "hands = mp_hands.Hands(\n",
    "static_image_mode = False,\n",
    "max_num_hands = 2,\n",
    "min_detection_confidence = 0.5)"
   ]
  },
  {
   "cell_type": "code",
   "execution_count": 6,
   "id": "f4a9c9ed",
   "metadata": {},
   "outputs": [],
   "source": [
    "cam = cv.VideoCapture(0)\n",
    "\n",
    "while cam.isOpened():\n",
    "    success, frame = cam.read()\n",
    "    if not success:\n",
    "        print(\"Camera Frame not available\")\n",
    "        continue\n",
    "        \n",
    "    frame = cv.cvtColor(frame, cv.COLOR_BGR2RGB)\n",
    "    hands_detected = hands.process(frame)\n",
    "    frame = cv.cvtColor(frame, cv.COLOR_RGB2BGR)\n",
    "    if hands_detected.multi_hand_landmarks:\n",
    "        for hand_landmarks in hands_detected.multi_hand_landmarks:\n",
    "            drawing.draw_landmarks(\n",
    "            frame,\n",
    "            hand_landmarks,\n",
    "            mp_hands.HAND_CONNECTIONS,\n",
    "            drawing_styles.get_default_hand_landmarks_style(),\n",
    "            drawing_styles.get_default_hand_connections_style()\n",
    "            )\n",
    "        \n",
    "    cv.imshow(\"Show Video\", frame)\n",
    "        \n",
    "        \n",
    "    if cv.waitKey(20) & 0xff == ord('q'):\n",
    "        break\n",
    "        \n",
    "cam.release()"
   ]
  },
  {
   "cell_type": "code",
   "execution_count": null,
   "id": "bef50644",
   "metadata": {},
   "outputs": [],
   "source": []
  }
 ],
 "metadata": {
  "kernelspec": {
   "display_name": "Python 3 (ipykernel)",
   "language": "python",
   "name": "python3"
  },
  "language_info": {
   "codemirror_mode": {
    "name": "ipython",
    "version": 3
   },
   "file_extension": ".py",
   "mimetype": "text/x-python",
   "name": "python",
   "nbconvert_exporter": "python",
   "pygments_lexer": "ipython3",
   "version": "3.9.13"
  }
 },
 "nbformat": 4,
 "nbformat_minor": 5
}
